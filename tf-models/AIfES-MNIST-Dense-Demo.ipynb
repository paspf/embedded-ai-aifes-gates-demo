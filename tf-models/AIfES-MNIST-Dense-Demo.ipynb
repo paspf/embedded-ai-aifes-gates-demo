{
 "cells": [
  {
   "cell_type": "markdown",
   "id": "e9bd0c3d-d7bb-4212-b348-eb46e9bd6d17",
   "metadata": {},
   "source": [
    "# Using AIfES Converter\n",
    "Run this notebook after executing `TF-MNIST-Dense-Demo.ipynb` .\n",
    "\n",
    "For more detail on AIfES see:\n",
    " - https://github.com/Fraunhofer-IMS/AIfES-Converter\n",
    " - https://fraunhofer-ims.github.io/AIfES-Converter/quickstart.html\n",
    " - https://github.com/Fraunhofer-IMS/AIfES_for_Arduino"
   ]
  },
  {
   "cell_type": "markdown",
   "id": "99a9f45d-c5ac-476c-91b0-7aa93eefc6ef",
   "metadata": {},
   "source": [
    "Ensure Python 3.9 for AIfES"
   ]
  },
  {
   "cell_type": "code",
   "execution_count": 6,
   "id": "31c776b7-7ce4-42f1-8ee1-4f9aa2e32524",
   "metadata": {},
   "outputs": [
    {
     "data": {
      "text/plain": [
       "'3.9.13 (tags/v3.9.13:6de2ca5, May 17 2022, 16:36:42) [MSC v.1929 64 bit (AMD64)]'"
      ]
     },
     "execution_count": 6,
     "metadata": {},
     "output_type": "execute_result"
    }
   ],
   "source": [
    "import sys\n",
    "sys.version"
   ]
  },
  {
   "cell_type": "code",
   "execution_count": 7,
   "id": "b7227346-85dc-451d-b2cf-af42028c25c3",
   "metadata": {},
   "outputs": [],
   "source": [
    "import numpy as np\n",
    "from pathlib import Path\n",
    "from tensorflow import keras\n",
    "from aifes import keras2aifes"
   ]
  },
  {
   "cell_type": "markdown",
   "id": "3f923fd2-5b2a-4fca-bc43-2efaf7ffb70e",
   "metadata": {},
   "source": [
    "Network input data, required to set quanitzation range. Use Test data as representative_dataset."
   ]
  },
  {
   "cell_type": "code",
   "execution_count": 8,
   "id": "cd4740fb-a2d3-42a3-8084-65609badcffd",
   "metadata": {},
   "outputs": [
    {
     "name": "stdout",
     "output_type": "stream",
     "text": [
      "x_test shape:  (10000, 784)\n",
      "test samples:  10000\n"
     ]
    }
   ],
   "source": [
    "# Load the data and split it between train and test sets.\n",
    "(x_train, y_train), (x_test, y_test) = keras.datasets.mnist.load_data()\n",
    "\n",
    "# Scale images to the [0, 1] range.\n",
    "x_test = x_test.astype(\"float32\") / 255\n",
    "\n",
    "# Flatten 28 * 28 images for Dense layer input.\n",
    "representative_dataset = np.reshape(x_test, (10000, 784))\n",
    "\n",
    "print(\"x_test shape: \", representative_dataset.shape)\n",
    "print(\"test samples: \",representative_dataset.shape[0] )"
   ]
  },
  {
   "cell_type": "markdown",
   "id": "bcb7ce9b-4e81-4724-8d94-649796768b0c",
   "metadata": {},
   "source": [
    "List of models"
   ]
  },
  {
   "cell_type": "code",
   "execution_count": 9,
   "id": "ff44a1e9-521e-4031-9793-677b5d302433",
   "metadata": {},
   "outputs": [],
   "source": [
    "models_list = [\n",
    "    \"mnist-dense\"\n",
    "]"
   ]
  },
  {
   "cell_type": "markdown",
   "id": "7d74c9c8-f259-4da9-a676-bd195e783418",
   "metadata": {},
   "source": [
    "Load a model from the model list, use AIfESConverter and create a float and a q7 model. Parse the generated c files and exchange the generic variable, function and define names with model specific ones."
   ]
  },
  {
   "cell_type": "code",
   "execution_count": 10,
   "id": "2b453d82-5d79-440c-929c-8801559f1d01",
   "metadata": {},
   "outputs": [],
   "source": [
    "for model in models_list:\n",
    "    keras_model = keras.models.load_model(model + '.h5')\n",
    "    dest_path = Path('..\\\\aifes-gates-cube-project\\\\AIfES-models\\\\AIfES-')\n",
    "    model_path = Path(str(dest_path) + model + '-float')\n",
    "    model_name = model.replace('-', '_')\n",
    "    keras2aifes.convert_to_fnn_f32_express(keras_model, str(model_path))\n",
    "    \n",
    "    # Adjust the name of the float model\n",
    "    # AIfES always uses the same model name, this section changes the name of the model\n",
    "    # and makes it possible to import multiple models within the same c code file.\n",
    "    fnn_h = model_path / 'aifes_e_f32_fnn.h'\n",
    "    with open(fnn_h,'r') as file:\n",
    "        filedata = file.read()\n",
    "        # Adjust function names\n",
    "        filedata = filedata.replace('aifes_e_f32_fnn_inference(','aifes_e_' + model_name + '_f32_fnn_inference(')\n",
    "        # Adjust variable names\n",
    "        filedata = filedata.replace('(void*)aifes_e_f32_flat_weights;','(void*) model_' + model_name + '_flat_weights;')\n",
    "        # Adjust defines\n",
    "        filedata = filedata.replace('AIFES_E_F32_FNN','AIFES_E_F32_' + model_name.upper() + '_FNN')\n",
    "    with open(fnn_h,'w') as file:\n",
    "        file.write(filedata)\n",
    "    \n",
    "    weights_h = model_path / 'aifes_e_f32_weights.h'\n",
    "    with open(weights_h,'r') as file:\n",
    "        filedata = file.read()\n",
    "        # Adjust variable names\n",
    "        filedata = filedata.replace('aifes_e_f32_flat_weights[]','model_' + model_name + '_flat_weights[]')\n",
    "        # Adjust defines\n",
    "        filedata = filedata.replace('AIFES_E_F32_WEIGHTS','AIFES_E_F32_' + model_name.upper() + '_WEIGHTS')\n",
    "    with open(weights_h,'w') as file:\n",
    "        file.write(filedata)\n",
    "    \n",
    "    \n",
    "    model_path = Path(str(dest_path) + model + '-q7')\n",
    "    # Quantized Q7 model with 32 bit storage alignment (4 Byte) and little endian representation\n",
    "    keras2aifes.convert_to_fnn_q7_express(keras_model, str(model_path), \n",
    "                                      representative_data=representative_dataset, \n",
    "                                      target_alignment=4, \n",
    "                                      byteorder=\"little\")\n",
    "    \n",
    "    \n",
    "    # Adjust the name of the q7 model\n",
    "    # AIfES always uses the same model name, this section changes the name of the model\n",
    "    # and makes it possible to import multiple models within the same c code file.\n",
    "    fnn_h = model_path / 'aifes_e_q7_fnn.h'\n",
    "    with open(fnn_h,'r') as file:\n",
    "        filedata = file.read()\n",
    "        # Adjust function names\n",
    "        filedata = filedata.replace('aifes_e_q7_fnn_inference(','aifes_e_' + model_name + '_q7_fnn_inference(')\n",
    "        # Adjust variable names\n",
    "        filedata = filedata.replace('(void*) model_parameters;','(void*) model_' + model_name + '_parameters;')\n",
    "        # Adjust defines\n",
    "        filedata = filedata.replace('AIFES_E_Q7_FNN','AIFES_E_Q7_' + model_name.upper() + '_FNN')\n",
    "    with open(fnn_h,'w') as file:\n",
    "        file.write(filedata)\n",
    "    \n",
    "    weights_h = model_path / 'aifes_e_q7_weights.h'\n",
    "    with open(weights_h,'r') as file:\n",
    "        filedata = file.read()\n",
    "        # Adjust variable names\n",
    "        filedata = filedata.replace('model_parameters[','model_' + model_name + '_parameters[')\n",
    "        filedata = filedata.replace('parameter_memory_size','parameter_' + model_name + '_memory_size')\n",
    "        # Adjust defines\n",
    "        filedata = filedata.replace('AIFES_E_Q7_WEIGHTS','AIFES_E_Q7_' + model_name.upper() + '_WEIGHTS')\n",
    "    with open(weights_h,'w') as file:\n",
    "        file.write(filedata)\n",
    "    "
   ]
  },
  {
   "cell_type": "markdown",
   "id": "d38c4213-79a2-4936-9885-bbe7661778be",
   "metadata": {},
   "source": [
    "## Generate Test Data in C\n",
    "Test data to include in C program."
   ]
  },
  {
   "cell_type": "code",
   "execution_count": 40,
   "id": "b52c2ba0-1c34-47c0-a3bc-d8a4d30498a1",
   "metadata": {},
   "outputs": [],
   "source": [
    "def numpy_to_c_array(ndarr, name=\"carray\", d_type=\"auto\"):\n",
    "    if not isinstance(ndarr, np.ndarray):\n",
    "        raise TypeError(\"Given instance is not of type numpy.ndarray\")\n",
    "    \n",
    "    if d_type==\"auto\":\n",
    "        if np.dtype(float) == ndarr.dtype:\n",
    "            d_type = \"float\"\n",
    "        elif np.dtype(np.int8) == ndarr.dtype:\n",
    "            d_type = \"int8_t\"\n",
    "        elif np.dtype(np.int16) == ndarr.dtype:\n",
    "            d_type = \"int16_t\"\n",
    "        elif np.dtype(np.int32) == ndarr.dtype:\n",
    "            d_type = \"int32_t\"\n",
    "        else:\n",
    "            raise f\"Unsupported data type of ndarr {ndarr.dtype}\"\n",
    "        \n",
    "    return f\"{d_type} {name}[] = \\n\" + numpy_to_c_array_data(ndarr) + \"\\n\\n\"\n",
    "        \n",
    "def numpy_to_c_array_data(arr, external_indent='  ', internal_indent='  ', columns=32):\n",
    "    \"\"\"Convert a numpy array to its C/C++ representation and returns the string.\"\"\"\n",
    "    indent = external_indent + internal_indent\n",
    "    arr_str = indent + '{'\n",
    "    for i in range(0,len(arr.flat) -1 ):\n",
    "        arr_str = arr_str + f\"{arr.flat[i]}, \"\n",
    "        if (i % columns == 0) and (i != 0):\n",
    "            arr_str = arr_str + \"\\n\" + indent\n",
    "        \n",
    "    arr_str = arr_str + f\"{arr.flat[len(arr.flat) - 1]}}};\"\n",
    "    \n",
    "    return arr_str"
   ]
  },
  {
   "cell_type": "code",
   "execution_count": 41,
   "id": "2c99984d-ade7-47c5-b23c-d8641cb26798",
   "metadata": {},
   "outputs": [],
   "source": [
    "y_test = keras.utils.to_categorical(y_test, 10)"
   ]
  },
  {
   "cell_type": "markdown",
   "id": "23de0207-bbb0-4604-b808-16f40425078e",
   "metadata": {},
   "source": [
    "Create test data for each number (0-9)."
   ]
  },
  {
   "cell_type": "code",
   "execution_count": 42,
   "id": "2177f5ad-0c81-4c90-b219-1f2b8a2f4bfb",
   "metadata": {},
   "outputs": [],
   "source": [
    "c_data = numpy_to_c_array(representative_dataset[3], \"mnist_number_0\", \"float\");\n",
    "c_data += numpy_to_c_array(representative_dataset[2], \"mnist_number_1\", \"float\");\n",
    "c_data += numpy_to_c_array(representative_dataset[1], \"mnist_number_2\", \"float\");\n",
    "c_data += numpy_to_c_array(representative_dataset[18], \"mnist_number_3\", \"float\");\n",
    "c_data += numpy_to_c_array(representative_dataset[4], \"mnist_number_4\", \"float\");\n",
    "c_data += numpy_to_c_array(representative_dataset[8], \"mnist_number_5\", \"float\");\n",
    "c_data += numpy_to_c_array(representative_dataset[11], \"mnist_number_6\", \"float\");\n",
    "c_data += numpy_to_c_array(representative_dataset[17], \"mnist_number_7\", \"float\");\n",
    "c_data += numpy_to_c_array(representative_dataset[61], \"mnist_number_8\", \"float\");\n",
    "c_data += numpy_to_c_array(representative_dataset[9], \"mnist_number_9\", \"float\");"
   ]
  },
  {
   "cell_type": "markdown",
   "id": "d8c35ef7-2e75-4ff8-974a-4a6e60cc6b7a",
   "metadata": {},
   "source": [
    "Uncomment print to view c arrays."
   ]
  },
  {
   "cell_type": "code",
   "execution_count": 45,
   "id": "7c959da5-7199-4e9b-a6d1-cfd5c0d4453a",
   "metadata": {},
   "outputs": [],
   "source": [
    "#print(c_data)"
   ]
  },
  {
   "cell_type": "code",
   "execution_count": null,
   "id": "d3eff08c-de9e-47fd-86f1-213e0329e8a4",
   "metadata": {},
   "outputs": [],
   "source": []
  }
 ],
 "metadata": {
  "kernelspec": {
   "display_name": "python-3.9",
   "language": "python",
   "name": "python-3.9"
  },
  "language_info": {
   "codemirror_mode": {
    "name": "ipython",
    "version": 3
   },
   "file_extension": ".py",
   "mimetype": "text/x-python",
   "name": "python",
   "nbconvert_exporter": "python",
   "pygments_lexer": "ipython3",
   "version": "3.9.13"
  }
 },
 "nbformat": 4,
 "nbformat_minor": 5
}
