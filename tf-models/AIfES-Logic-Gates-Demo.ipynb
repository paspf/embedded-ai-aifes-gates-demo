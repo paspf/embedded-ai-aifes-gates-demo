{
 "cells": [
  {
   "cell_type": "markdown",
   "id": "e9bd0c3d-d7bb-4212-b348-eb46e9bd6d17",
   "metadata": {},
   "source": [
    "# Using AIfES Converter\n",
    "Run this notebook after executing TF-Logic-Gates-Demo.json.\n",
    "\n",
    "For more detail on AIfES see:\n",
    " - https://github.com/Fraunhofer-IMS/AIfES-Converter\n",
    " - https://fraunhofer-ims.github.io/AIfES-Converter/quickstart.html\n",
    " - https://github.com/Fraunhofer-IMS/AIfES_for_Arduino"
   ]
  },
  {
   "cell_type": "markdown",
   "id": "99a9f45d-c5ac-476c-91b0-7aa93eefc6ef",
   "metadata": {},
   "source": [
    "Ensure Python 3.9 for AIfES"
   ]
  },
  {
   "cell_type": "code",
   "execution_count": 1,
   "id": "31c776b7-7ce4-42f1-8ee1-4f9aa2e32524",
   "metadata": {},
   "outputs": [
    {
     "data": {
      "text/plain": [
       "'3.9.13 (tags/v3.9.13:6de2ca5, May 17 2022, 16:36:42) [MSC v.1929 64 bit (AMD64)]'"
      ]
     },
     "execution_count": 1,
     "metadata": {},
     "output_type": "execute_result"
    }
   ],
   "source": [
    "import sys\n",
    "sys.version"
   ]
  },
  {
   "cell_type": "code",
   "execution_count": 2,
   "id": "b7227346-85dc-451d-b2cf-af42028c25c3",
   "metadata": {},
   "outputs": [],
   "source": [
    "import numpy as np\n",
    "from pathlib import Path\n",
    "from tensorflow import keras\n",
    "from aifes import keras2aifes"
   ]
  },
  {
   "cell_type": "markdown",
   "id": "3f923fd2-5b2a-4fca-bc43-2efaf7ffb70e",
   "metadata": {},
   "source": [
    "Network input data, required to set quanitzation range"
   ]
  },
  {
   "cell_type": "code",
   "execution_count": 3,
   "id": "cd4740fb-a2d3-42a3-8084-65609badcffd",
   "metadata": {},
   "outputs": [],
   "source": [
    "representative_dataset = np.array([[0, 0],\n",
    "                                   [0, 1],\n",
    "                                   [1, 0],\n",
    "                                   [1, 1]])"
   ]
  },
  {
   "cell_type": "markdown",
   "id": "bcb7ce9b-4e81-4724-8d94-649796768b0c",
   "metadata": {},
   "source": [
    "List of models"
   ]
  },
  {
   "cell_type": "code",
   "execution_count": 4,
   "id": "ff44a1e9-521e-4031-9793-677b5d302433",
   "metadata": {},
   "outputs": [],
   "source": [
    "models_list = [\n",
    "    'and-gate',\n",
    "    'nor-gate',\n",
    "    'or-gate',\n",
    "    'xnor-gate',\n",
    "    'xor-gate',\n",
    "    \n",
    "]"
   ]
  },
  {
   "cell_type": "markdown",
   "id": "7d74c9c8-f259-4da9-a676-bd195e783418",
   "metadata": {},
   "source": [
    "Load a model from the model list, use AIfESConverter and create a float and a q7 model. Parse the generated c files and exchange the generic variable, function and define names with model specific ones."
   ]
  },
  {
   "cell_type": "code",
   "execution_count": 5,
   "id": "2b453d82-5d79-440c-929c-8801559f1d01",
   "metadata": {},
   "outputs": [],
   "source": [
    "for model in models_list:\n",
    "    keras_model = keras.models.load_model(model + '.h5')\n",
    "    dest_path = Path('..\\\\aifes-gates-cube-project\\\\AIfES-models\\\\AIfES-')\n",
    "    model_path = Path(str(dest_path) + model + '-float')\n",
    "    model_name = model.replace('-', '_')\n",
    "    keras2aifes.convert_to_fnn_f32_express(keras_model, str(model_path))\n",
    "    \n",
    "    # Adjust the name of the float model\n",
    "    # AIfES always uses the same model name, this section changes the name of the model\n",
    "    # and makes it possible to import multiple models within the same c code file.\n",
    "    fnn_h = model_path / 'aifes_e_f32_fnn.h'\n",
    "    with open(fnn_h,'r') as file:\n",
    "        filedata = file.read()\n",
    "        # Adjust function names\n",
    "        filedata = filedata.replace('aifes_e_f32_fnn_inference(','aifes_e_' + model_name + '_f32_fnn_inference(')\n",
    "        # Adjust variable names\n",
    "        filedata = filedata.replace('(void*)aifes_e_f32_flat_weights;','(void*) model_' + model_name + '_flat_weights;')\n",
    "        # Adjust defines\n",
    "        filedata = filedata.replace('AIFES_E_F32_FNN','AIFES_E_F32_' + model_name.upper() + '_FNN')\n",
    "    with open(fnn_h,'w') as file:\n",
    "        file.write(filedata)\n",
    "    \n",
    "    weights_h = model_path / 'aifes_e_f32_weights.h'\n",
    "    with open(weights_h,'r') as file:\n",
    "        filedata = file.read()\n",
    "        # Adjust variable names\n",
    "        filedata = filedata.replace('aifes_e_f32_flat_weights[]','model_' + model_name + '_flat_weights[]')\n",
    "        # Adjust defines\n",
    "        filedata = filedata.replace('AIFES_E_F32_WEIGHTS','AIFES_E_F32_' + model_name.upper() + '_WEIGHTS')\n",
    "    with open(weights_h,'w') as file:\n",
    "        file.write(filedata)\n",
    "    \n",
    "    \n",
    "    model_path = Path(str(dest_path) + model + '-q7')\n",
    "    # Quantized Q7 model with 32 bit storage alignment (4 Byte) and little endian representation\n",
    "    keras2aifes.convert_to_fnn_q7_express(keras_model, str(model_path), \n",
    "                                      representative_data=representative_dataset, \n",
    "                                      target_alignment=4, \n",
    "                                      byteorder=\"little\")\n",
    "    \n",
    "    \n",
    "    # Adjust the name of the q7 model\n",
    "    # AIfES always uses the same model name, this section changes the name of the model\n",
    "    # and makes it possible to import multiple models within the same c code file.\n",
    "    fnn_h = model_path / 'aifes_e_q7_fnn.h'\n",
    "    with open(fnn_h,'r') as file:\n",
    "        filedata = file.read()\n",
    "        # Adjust function names\n",
    "        filedata = filedata.replace('aifes_e_q7_fnn_inference(','aifes_e_' + model_name + '_q7_fnn_inference(')\n",
    "        # Adjust variable names\n",
    "        filedata = filedata.replace('(void*) model_parameters;','(void*) model_' + model_name + '_parameters;')\n",
    "        # Adjust defines\n",
    "        filedata = filedata.replace('AIFES_E_Q7_FNN','AIFES_E_Q7_' + model_name.upper() + '_FNN')\n",
    "    with open(fnn_h,'w') as file:\n",
    "        file.write(filedata)\n",
    "    \n",
    "    weights_h = model_path / 'aifes_e_q7_weights.h'\n",
    "    with open(weights_h,'r') as file:\n",
    "        filedata = file.read()\n",
    "        # Adjust variable names\n",
    "        filedata = filedata.replace('model_parameters[','model_' + model_name + '_parameters[')\n",
    "        filedata = filedata.replace('parameter_memory_size','parameter_' + model_name + '_memory_size')\n",
    "        # Adjust defines\n",
    "        filedata = filedata.replace('AIFES_E_Q7_WEIGHTS','AIFES_E_Q7_' + model_name.upper() + '_WEIGHTS')\n",
    "    with open(weights_h,'w') as file:\n",
    "        file.write(filedata)\n",
    "    "
   ]
  },
  {
   "cell_type": "code",
   "execution_count": null,
   "id": "660a2b84-8aab-4bd2-899d-72d72ff90acc",
   "metadata": {},
   "outputs": [],
   "source": []
  }
 ],
 "metadata": {
  "kernelspec": {
   "display_name": "python-3.9",
   "language": "python",
   "name": "python-3.9"
  },
  "language_info": {
   "codemirror_mode": {
    "name": "ipython",
    "version": 3
   },
   "file_extension": ".py",
   "mimetype": "text/x-python",
   "name": "python",
   "nbconvert_exporter": "python",
   "pygments_lexer": "ipython3",
   "version": "3.9.13"
  }
 },
 "nbformat": 4,
 "nbformat_minor": 5
}
