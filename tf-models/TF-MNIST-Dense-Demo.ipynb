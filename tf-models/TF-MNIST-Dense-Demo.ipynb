{
 "cells": [
  {
   "cell_type": "markdown",
   "id": "d4b4b9e3-e7a8-4795-8899-a8d34c256439",
   "metadata": {},
   "source": [
    "# TF MNIST Dense Demo\n",
    "Train Dense network on MNIST dataset."
   ]
  },
  {
   "cell_type": "code",
   "execution_count": 1,
   "id": "0be822a8-1dc7-4493-b622-62cb09b15da9",
   "metadata": {},
   "outputs": [],
   "source": [
    "import numpy as np\n",
    "from tensorflow import keras\n",
    "from tensorflow.keras import layers\n",
    "import matplotlib.pyplot as plt"
   ]
  },
  {
   "cell_type": "code",
   "execution_count": 2,
   "id": "374168b2-9a24-4a9d-a045-1545db79d7f5",
   "metadata": {},
   "outputs": [],
   "source": [
    "# Model / data / training parameters.\n",
    "num_classes = 10\n",
    "input_shape = (784)\n",
    "batch_size = 128\n",
    "epochs = 5"
   ]
  },
  {
   "cell_type": "code",
   "execution_count": 3,
   "id": "26ac316a-150f-4b75-8e36-85bebfd7e758",
   "metadata": {},
   "outputs": [
    {
     "name": "stdout",
     "output_type": "stream",
     "text": [
      "x_train shape: (60000, 784, 1)\n",
      "60000 train samples\n",
      "10000 test samples\n"
     ]
    }
   ],
   "source": [
    "# Load the data and split it between train and test sets.\n",
    "(x_train, y_train), (x_test, y_test) = keras.datasets.mnist.load_data()\n",
    "\n",
    "# Scale images to the [0, 1] range.\n",
    "x_train = x_train.astype(\"float32\") / 255\n",
    "x_test = x_test.astype(\"float32\") / 255\n",
    "\n",
    "# Flatten 28 * 28 images for Dense layer input.\n",
    "x_train = np.reshape(x_train, (60000, 784,1))\n",
    "x_test = np.reshape(x_test, (10000, 784,1))\n",
    "\n",
    "print(\"x_train shape:\", x_train.shape)\n",
    "print(x_train.shape[0], \"train samples\")\n",
    "print(x_test.shape[0], \"test samples\")\n",
    "\n",
    "# Convert class vectors to binary class matrices.\n",
    "y_train = keras.utils.to_categorical(y_train, num_classes)\n",
    "y_test = keras.utils.to_categorical(y_test, num_classes)"
   ]
  },
  {
   "cell_type": "code",
   "execution_count": 4,
   "id": "6807d2b0-ae6f-4b99-adc3-c5ae657e0e33",
   "metadata": {},
   "outputs": [
    {
     "name": "stdout",
     "output_type": "stream",
     "text": [
      "Model: \"sequential\"\n",
      "_________________________________________________________________\n",
      " Layer (type)                Output Shape              Param #   \n",
      "=================================================================\n",
      " dense (Dense)               (None, 32)                25120     \n",
      "                                                                 \n",
      " dense_1 (Dense)             (None, 16)                528       \n",
      "                                                                 \n",
      " dense_2 (Dense)             (None, 10)                170       \n",
      "                                                                 \n",
      "=================================================================\n",
      "Total params: 25,818\n",
      "Trainable params: 25,818\n",
      "Non-trainable params: 0\n",
      "_________________________________________________________________\n"
     ]
    }
   ],
   "source": [
    "# Define sequential Keras model.\n",
    "model = keras.Sequential(\n",
    "    [\n",
    "        keras.Input(shape=input_shape),\n",
    "        layers.Dense(32, activation=\"relu\"),\n",
    "        layers.Dense(16, activation=\"relu\"),\n",
    "        layers.Dense(num_classes, activation=\"softmax\"),\n",
    "    ]\n",
    ")\n",
    "model.summary()"
   ]
  },
  {
   "cell_type": "code",
   "execution_count": 5,
   "id": "f449a864-becc-40f5-bfec-03c9d671ee2a",
   "metadata": {},
   "outputs": [
    {
     "name": "stdout",
     "output_type": "stream",
     "text": [
      "Epoch 1/5\n",
      "422/422 [==============================] - 3s 4ms/step - loss: 0.6027 - accuracy: 0.8238 - val_loss: 0.2318 - val_accuracy: 0.9353\n",
      "Epoch 2/5\n",
      "422/422 [==============================] - 1s 3ms/step - loss: 0.2487 - accuracy: 0.9290 - val_loss: 0.1761 - val_accuracy: 0.9515\n",
      "Epoch 3/5\n",
      "422/422 [==============================] - 1s 3ms/step - loss: 0.1980 - accuracy: 0.9430 - val_loss: 0.1567 - val_accuracy: 0.9583\n",
      "Epoch 4/5\n",
      "422/422 [==============================] - 1s 3ms/step - loss: 0.1710 - accuracy: 0.9498 - val_loss: 0.1398 - val_accuracy: 0.9613\n",
      "Epoch 5/5\n",
      "422/422 [==============================] - 1s 3ms/step - loss: 0.1528 - accuracy: 0.9546 - val_loss: 0.1318 - val_accuracy: 0.9633\n",
      "Test loss: 0.15710169076919556\n",
      "Test accuracy: 0.9544000029563904\n"
     ]
    }
   ],
   "source": [
    "# Compile and train model.\n",
    "model.compile(loss=\"categorical_crossentropy\", optimizer=\"adam\", metrics=[\"accuracy\"])\n",
    "model.fit(x_train, y_train, batch_size=batch_size, epochs=epochs, validation_split=0.1)\n",
    "\n",
    "# Evaluate model.\n",
    "score = model.evaluate(x_test, y_test, verbose=0)\n",
    "print(\"Test loss:\", score[0])\n",
    "print(\"Test accuracy:\", score[1])\n",
    "\n",
    "# Plot 9 predictions.\n",
    "def plot_mnist_image(images, label_true, label_predict, img_shape=(28, 28)):\n",
    "    \"\"\"\n",
    "    Plot 9 images and their labels.\n",
    "    based on: https://tensorflowguide.readthedocs.io/en/latest/tensorflow/mnist.html\n",
    "    \"\"\"\n",
    "    fig, axes = plt.subplots(3, 3)\n",
    "\n",
    "    for i, ax in enumerate(axes.flat):\n",
    "        # Plot image.\n",
    "        ax.imshow(images[i].reshape(img_shape), cmap='binary')\n",
    "\n",
    "        # Show true and predicted labels.\n",
    "        if label_predict is None:\n",
    "            xlabel = f\"True: {label_true[i]}\"\n",
    "        else:\n",
    "            xlabel = f\"True: {label_true[i]}, Pred: {label_predict[i]}\"\n",
    "        \n",
    "        ax.set_xlabel(xlabel)\n",
    "        # Disable ticks.\n",
    "        ax.set_xticks([])\n",
    "        ax.set_yticks([])\n",
    "    fig.tight_layout() \n",
    "    plt.show()\n",
    "\n",
    "# Store model.\n",
    "def save_tf_model(model, name):\n",
    "    # Save model and weights in h5 format.\n",
    "    model.save(f'{name}.h5', save_format='h5')\n",
    "    \n",
    "    # Save weights only in h5 format.\n",
    "    model.save_weights(f'{name}_weights.h5')\n",
    "\n",
    "    # Save model in TensorFlow SavedModel format\n",
    "    model.save(f'{name}')\n",
    "\n",
    "    # Save model architecture as json\n",
    "    json = model.to_json()\n",
    "    json_file = open(f\"{name}_architecture.json\", \"w\")\n",
    "    json_file.write(json)\n",
    "    json_file.close()\n",
    "    \n"
   ]
  },
  {
   "cell_type": "code",
   "execution_count": 6,
   "id": "8a3adff3-6add-4001-8074-5fddef358ee7",
   "metadata": {},
   "outputs": [
    {
     "name": "stdout",
     "output_type": "stream",
     "text": [
      "1/1 [==============================] - 0s 110ms/step\n"
     ]
    },
    {
     "data": {
      "image/png": "[encoded data removed]",
      "text/plain": [
       "<Figure size 640x480 with 9 Axes>"
      ]
     },
     "metadata": {},
     "output_type": "display_data"
    }
   ],
   "source": [
    "preds = model.predict(x_test[0:9])\n",
    "plot_mnist_image(x_test[0:9], y_test[0:9].argmax(axis=1), preds.argmax(axis=1))"
   ]
  },
  {
   "cell_type": "code",
   "execution_count": 7,
   "id": "97459bac-3c3e-44ff-ab4b-76abc162a3da",
   "metadata": {},
   "outputs": [
    {
     "name": "stderr",
     "output_type": "stream",
     "text": [
      "WARNING:absl:Found untraced functions such as _update_step_xla while saving (showing 1 of 1). These functions will not be directly callable after loading.\n"
     ]
    },
    {
     "name": "stdout",
     "output_type": "stream",
     "text": [
      "INFO:tensorflow:Assets written to: mnist-dense\\assets\n"
     ]
    },
    {
     "name": "stderr",
     "output_type": "stream",
     "text": [
      "INFO:tensorflow:Assets written to: mnist-dense\\assets\n"
     ]
    }
   ],
   "source": [
    "save_tf_model(model, \"mnist-dense\")"
   ]
  },
  {
   "cell_type": "code",
   "execution_count": null,
   "id": "75e0a506-5894-4312-96ee-a1faf865640d",
   "metadata": {},
   "outputs": [],
   "source": []
  }
 ],
 "metadata": {
  "kernelspec": {
   "display_name": "Python 3 (ipykernel)",
   "language": "python",
   "name": "python3"
  },
  "language_info": {
   "codemirror_mode": {
    "name": "ipython",
    "version": 3
   },
   "file_extension": ".py",
   "mimetype": "text/x-python",
   "name": "python",
   "nbconvert_exporter": "python",
   "pygments_lexer": "ipython3",
   "version": "3.10.8"
  }
 },
 "nbformat": 4,
 "nbformat_minor": 5
}
